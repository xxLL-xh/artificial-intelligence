{
 "cells": [
  {
   "cell_type": "code",
   "execution_count": 1,
   "metadata": {
    "ExecuteTime": {
     "end_time": "2022-07-22T02:44:16.132870Z",
     "start_time": "2022-07-22T02:44:15.070192Z"
    }
   },
   "outputs": [
    {
     "name": "stdout",
     "output_type": "stream",
     "text": [
      "data\n",
      "[[ 6.11373907e-02  1.37811679e+00 -5.38755428e-01 ... -3.98974797e-02\n",
      "  -8.94987928e-02 -1.46056457e-01]\n",
      " [ 3.75737245e-01 -1.35466438e+00  2.26963701e-01 ... -7.16229078e-02\n",
      "   1.03928293e-01 -4.78094629e-02]\n",
      " [ 3.70527050e-01 -6.75975417e-01  1.68658225e-01 ...  1.44700236e-01\n",
      "   2.34921622e-02  8.47645586e-05]\n",
      " ...\n",
      " [ 6.13133843e-01 -5.21929774e-01  3.53804168e-01 ...  1.91234380e-02\n",
      "   3.30240950e-01  2.26333300e-01]\n",
      " [-2.30329063e-01  8.25274547e-01 -5.98480322e-01 ...  8.82088443e-02\n",
      "  -5.33289972e-02  8.52922499e-02]\n",
      " [-2.29021935e-02  3.48186674e-01  7.03695228e-01 ...  3.41370920e-02\n",
      "   1.93202541e-01  3.69251250e-01]]\n",
      "\n",
      "target\n",
      "[[1. 0. 0. ... 0. 0. 0.]\n",
      " [0. 1. 0. ... 0. 0. 0.]\n",
      " [0. 0. 1. ... 0. 0. 0.]\n",
      " ...\n",
      " [0. 0. 0. ... 0. 1. 0.]\n",
      " [0. 0. 0. ... 0. 0. 1.]\n",
      " [0. 0. 0. ... 0. 1. 0.]]\n"
     ]
    }
   ],
   "source": [
    "from sklearn.pipeline import Pipeline\n",
    "from sklearn.pipeline import FeatureUnion\n",
    "from sklearn.preprocessing import MinMaxScaler\n",
    "from sklearn.preprocessing import LabelBinarizer\n",
    "from sklearn.decomposition import PCA\n",
    "from sklearn.datasets import load_digits\n",
    "# 加载数字图像数据集\n",
    "digits = load_digits()\n",
    "\n",
    "from sklearn.base import BaseEstimator, TransformerMixin\n",
    "# 自定义转换器。\n",
    "class Data_Value_Selector(BaseEstimator, TransformerMixin):\n",
    "    def __init__(self, Data_or_Value):\n",
    "        self.Data_or_Value = Data_or_Value\n",
    "    def fit(self, X, y=None):\n",
    "        return self\n",
    "    def transform(self, X):\n",
    "        return X[self.Data_or_Value]\n",
    "\n",
    "from sklearn.base import TransformerMixin     # 可以让类得到fit、transform、fit_transform\n",
    "class MyLabelBinarizer(TransformerMixin):\n",
    "    def __init__(self, *args, **kwargs):\n",
    "        self.encoder = LabelBinarizer(*args, **kwargs)\n",
    "    def fit(self, x, y=0):\n",
    "        self.encoder.fit(x)\n",
    "        return self\n",
    "    def transform(self, x, y=0):\n",
    "        return self.encoder.transform(x)\n",
    "\n",
    "    \n",
    "# 对数据进行归一化\n",
    "data_pipeline = Pipeline([\n",
    "    (\"selector\", Data_Value_Selector(\"data\")),\n",
    "    (\"mms_scaler\", MinMaxScaler()),\n",
    "    (\"reduce_dim\", PCA(n_components=0.95)),\n",
    "])\n",
    "\n",
    "# 对标签进行编码\n",
    "target_pipeline = Pipeline([\n",
    "    (\"selector\", Data_Value_Selector(\"target\")),\n",
    "    (\"LB\", MyLabelBinarizer()),\n",
    "])\n",
    "\n",
    "\n",
    "# 将对数据和标签的操作合在一起\n",
    "full_pipeline = FeatureUnion(transformer_list=[\n",
    "    (\"data_pipeline\", data_pipeline),\n",
    "    (\"target_pipeline\", target_pipeline),\n",
    "    ]) \n",
    "# 处理书据\n",
    "digits_preprocessed = full_pipeline.fit_transform(digits)\n",
    "# 打印出处理后的数据\n",
    "print(\"data\")\n",
    "data = digits_preprocessed[:, :30]\n",
    "print(data)\n",
    "print(\"\\ntarget\")\n",
    "target = digits_preprocessed[:, 30:]\n",
    "print(target)\n"
   ]
  },
  {
   "cell_type": "code",
   "execution_count": null,
   "metadata": {},
   "outputs": [],
   "source": []
  }
 ],
 "metadata": {
  "kernelspec": {
   "display_name": "Python [conda env:ML]",
   "language": "python",
   "name": "conda-env-ML-py"
  },
  "language_info": {
   "codemirror_mode": {
    "name": "ipython",
    "version": 3
   },
   "file_extension": ".py",
   "mimetype": "text/x-python",
   "name": "python",
   "nbconvert_exporter": "python",
   "pygments_lexer": "ipython3",
   "version": "3.8.13"
  },
  "varInspector": {
   "cols": {
    "lenName": 16,
    "lenType": 16,
    "lenVar": 40
   },
   "kernels_config": {
    "python": {
     "delete_cmd_postfix": "",
     "delete_cmd_prefix": "del ",
     "library": "var_list.py",
     "varRefreshCmd": "print(var_dic_list())"
    },
    "r": {
     "delete_cmd_postfix": ") ",
     "delete_cmd_prefix": "rm(",
     "library": "var_list.r",
     "varRefreshCmd": "cat(var_dic_list()) "
    }
   },
   "types_to_exclude": [
    "module",
    "function",
    "builtin_function_or_method",
    "instance",
    "_Feature"
   ],
   "window_display": false
  }
 },
 "nbformat": 4,
 "nbformat_minor": 4
}
