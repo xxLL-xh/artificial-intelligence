{
 "cells": [
  {
   "cell_type": "code",
   "execution_count": 6,
   "metadata": {
    "ExecuteTime": {
     "end_time": "2022-07-22T02:40:18.215132Z",
     "start_time": "2022-07-22T02:40:18.152364Z"
    }
   },
   "outputs": [
    {
     "name": "stdout",
     "output_type": "stream",
     "text": [
      "KNN Scores:  [0.66666667 0.68888889 0.63636364 0.72727273]\n",
      "KNN Mean:    0.6797979797979798\n",
      "KNN_pipeline Scores:  [0.93333333 0.97777778 0.95454545 0.97727273]\n",
      "KNN_pipeline Mean:    0.9607323232323233\n",
      "以字典形式查看流水线中的估算器：\n",
      " {'std_scaler': StandardScaler(), 'knn_clf': KNeighborsClassifier(n_neighbors=7)}\n",
      "\n",
      "更改前 KNeighborsClassifier(n_neighbors=7)\n",
      "更改后 KNeighborsClassifier(n_neighbors=10)\n"
     ]
    }
   ],
   "source": [
    "from sklearn.pipeline import Pipeline\n",
    "from sklearn.preprocessing import StandardScaler\n",
    "from sklearn.decomposition import PCA\n",
    "from sklearn.datasets import load_wine\n",
    "from sklearn.neighbors import KNeighborsClassifier\n",
    "from sklearn.model_selection import cross_val_score\n",
    "# 加载数据\n",
    "wine_data = load_wine()\n",
    "data = wine_data.data\n",
    "target = wine_data.target\n",
    "\n",
    "# 普通KNN实例作为对照\n",
    "knn_clf = KNeighborsClassifier(n_neighbors=7)\n",
    "# 流水线\n",
    "knn_pipeline = Pipeline([\n",
    "    (\"std_scaler\", StandardScaler()),\n",
    "    (\"knn_clf\", KNeighborsClassifier(n_neighbors=7))\n",
    "])\n",
    "# 对未标准化数据对普通KNN进行交叉验证\n",
    "scores = cross_val_score(knn_clf, data, target, scoring=\"accuracy\", cv=4)\n",
    "print(\"KNN Scores: \", scores)\n",
    "print(\"KNN Mean:   \", scores.mean())\n",
    "# 对带标准化功能的KNN流水线进行交叉验证\n",
    "scores = cross_val_score(knn_pipeline, data, target, scoring=\"accuracy\", cv=4)\n",
    "print(\"KNN_pipeline Scores: \", scores)\n",
    "print(\"KNN_pipeline Mean:   \", scores.mean())\n",
    "\n",
    "# 更改流水线中估算器参数\n",
    "print(\"以字典形式查看流水线中的估算器：\\n\", knn_pipeline.named_steps)\n",
    "# 查看更改前的参数\n",
    "print(\"\\n更改前\", knn_pipeline.named_steps[\"knn_clf\"])\n",
    "knn_pipeline.set_params(knn_clf__n_neighbors=10)\n",
    "# 查看更改后的参数\n",
    "print(\"更改后\", knn_pipeline.named_steps[\"knn_clf\"])\n"
   ]
  }
 ],
 "metadata": {
  "kernelspec": {
   "display_name": "Python [conda env:ML]",
   "language": "python",
   "name": "conda-env-ML-py"
  },
  "language_info": {
   "codemirror_mode": {
    "name": "ipython",
    "version": 3
   },
   "file_extension": ".py",
   "mimetype": "text/x-python",
   "name": "python",
   "nbconvert_exporter": "python",
   "pygments_lexer": "ipython3",
   "version": "3.8.13"
  },
  "varInspector": {
   "cols": {
    "lenName": 16,
    "lenType": 16,
    "lenVar": 40
   },
   "kernels_config": {
    "python": {
     "delete_cmd_postfix": "",
     "delete_cmd_prefix": "del ",
     "library": "var_list.py",
     "varRefreshCmd": "print(var_dic_list())"
    },
    "r": {
     "delete_cmd_postfix": ") ",
     "delete_cmd_prefix": "rm(",
     "library": "var_list.r",
     "varRefreshCmd": "cat(var_dic_list()) "
    }
   },
   "types_to_exclude": [
    "module",
    "function",
    "builtin_function_or_method",
    "instance",
    "_Feature"
   ],
   "window_display": false
  }
 },
 "nbformat": 4,
 "nbformat_minor": 4
}
