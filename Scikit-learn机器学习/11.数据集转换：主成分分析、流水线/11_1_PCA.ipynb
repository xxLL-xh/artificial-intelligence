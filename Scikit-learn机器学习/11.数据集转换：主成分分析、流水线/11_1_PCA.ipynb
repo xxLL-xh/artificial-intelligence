{
 "cells": [
  {
   "cell_type": "code",
   "execution_count": 1,
   "metadata": {
    "ExecuteTime": {
     "end_time": "2022-07-22T02:35:30.667535Z",
     "start_time": "2022-07-22T02:35:29.176665Z"
    }
   },
   "outputs": [
    {
     "name": "stdout",
     "output_type": "stream",
     "text": [
      "Original Train Features Number： 64\n",
      "95% Best Dimensions: 29\n",
      "Components:\n",
      " [[-3.43143659e-18  3.00048407e-02  2.10972348e-01 ...  1.22667977e-01\n",
      "   4.50184238e-02  1.12661558e-02]\n",
      " [ 2.80934147e-18 -3.02795184e-02 -9.60629358e-02 ...  1.55988740e-01\n",
      "   9.57483421e-03 -8.97311151e-03]\n",
      " [-9.36547147e-19  3.35595069e-02  1.16743381e-01 ...  2.38357955e-01\n",
      "   1.61753627e-01  3.23773106e-02]\n",
      " ...\n",
      " [-2.52957316e-19  3.72769352e-02  1.21259413e-01 ... -4.88374133e-02\n",
      "   3.58129289e-01  1.46581611e-01]\n",
      " [ 7.07257753e-18  8.44608807e-03  6.37528102e-02 ...  3.68765331e-02\n",
      "  -8.12953121e-02 -3.26087308e-02]\n",
      " [ 1.04914055e-17 -4.06421802e-03  1.58426856e-02 ... -1.24235234e-01\n",
      "   6.74986782e-04 -2.25460752e-02]]\n",
      "Explained Variance Ratio:\n",
      " [0.14581322 0.13493873 0.11671725 0.08549044 0.05826682 0.04863624\n",
      " 0.04205229 0.036628   0.03375784 0.0303761  0.02365614 0.02238132\n",
      " 0.01827796 0.0180473  0.01496696 0.01377386 0.01304684 0.01233907\n",
      " 0.01026194 0.00936718 0.00907089 0.00803808 0.00790147 0.00749124\n",
      " 0.0069983  0.0059036  0.00570309 0.00507422 0.00503292]\n",
      "Train Score Before decomposition:  0.9958246346555324\n",
      "Test Score Before Decomposition:  0.9916666666666667\n",
      "Train Score After decomposition:  0.9986082115518441\n",
      "Test Score After decomposition:  0.9916666666666667\n"
     ]
    }
   ],
   "source": [
    "from sklearn.datasets import load_digits\n",
    "from sklearn.svm import SVC\n",
    "from sklearn.model_selection import train_test_split\n",
    "from sklearn.preprocessing import MinMaxScaler\n",
    "from sklearn.decomposition import PCA\n",
    "# 加载数据\n",
    "digits_data = load_digits()\n",
    "data = digits_data.data\n",
    "target = digits_data.target\n",
    "# 归一化\n",
    "MMS = MinMaxScaler()\n",
    "MMS.fit(data)\n",
    "data = MMS.transform(data)\n",
    "# 划分数据集\n",
    "X_train, X_test, Y_train, Y_test = train_test_split(\n",
    "    data,\n",
    "    target,\n",
    "    test_size=0.2,\n",
    "    random_state=1\n",
    ")\n",
    "\n",
    "# 计算最佳维度（方差解释率达到95%视为一个好的降维）\n",
    "pca = PCA(n_components=0.95)\n",
    "pca.fit(X_train)\n",
    "# 查看出成分分析结果\n",
    "print(\"Original Train Features Number：\", pca.n_features_)\n",
    "print(\"95% Best Dimensions:\", pca.n_components_)\n",
    "print(\"Components:\\n\", pca.components_)\n",
    "print(\"Explained Variance Ratio:\\n\", pca.explained_variance_ratio_)\n",
    "\n",
    "model = SVC()\n",
    "model.fit(X_train, Y_train)\n",
    "print(\"Train Score Before decomposition: \", model.score(X_train, Y_train))\n",
    "print(\"Test Score Before Decomposition: \", model.score(X_test, Y_test))\n",
    "\n",
    "X_train_pca = pca.transform(X_train)\n",
    "X_test_pca = pca.transform(X_test)\n",
    "# 降维后测试\n",
    "model = SVC()\n",
    "model.fit(X_train_pca, Y_train)\n",
    "print(\"Train Score After decomposition: \", model.score(X_train_pca, Y_train))\n",
    "print(\"Test Score After decomposition: \", model.score(X_test_pca, Y_test))\n"
   ]
  },
  {
   "cell_type": "code",
   "execution_count": null,
   "metadata": {},
   "outputs": [],
   "source": []
  }
 ],
 "metadata": {
  "kernelspec": {
   "display_name": "Python [conda env:ML]",
   "language": "python",
   "name": "conda-env-ML-py"
  },
  "language_info": {
   "codemirror_mode": {
    "name": "ipython",
    "version": 3
   },
   "file_extension": ".py",
   "mimetype": "text/x-python",
   "name": "python",
   "nbconvert_exporter": "python",
   "pygments_lexer": "ipython3",
   "version": "3.8.13"
  },
  "varInspector": {
   "cols": {
    "lenName": 16,
    "lenType": 16,
    "lenVar": 40
   },
   "kernels_config": {
    "python": {
     "delete_cmd_postfix": "",
     "delete_cmd_prefix": "del ",
     "library": "var_list.py",
     "varRefreshCmd": "print(var_dic_list())"
    },
    "r": {
     "delete_cmd_postfix": ") ",
     "delete_cmd_prefix": "rm(",
     "library": "var_list.r",
     "varRefreshCmd": "cat(var_dic_list()) "
    }
   },
   "types_to_exclude": [
    "module",
    "function",
    "builtin_function_or_method",
    "instance",
    "_Feature"
   ],
   "window_display": false
  }
 },
 "nbformat": 4,
 "nbformat_minor": 4
}
