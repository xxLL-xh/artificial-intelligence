{
 "cells": [
  {
   "cell_type": "code",
   "execution_count": 1,
   "metadata": {
    "ExecuteTime": {
     "end_time": "2022-07-22T02:34:05.058615Z",
     "start_time": "2022-07-22T02:34:00.090902Z"
    }
   },
   "outputs": [
    {
     "name": "stdout",
     "output_type": "stream",
     "text": [
      "{'C': 10, 'degree': 1, 'gamma': 'scale', 'kernel': 'sigmoid'}\n",
      "parameters = {'C': 10, 'degree': 1, 'gamma': 'scale', 'kernel': 'sigmoid'}:\n",
      "Score : 0.4447040506567447\n",
      "Default Parameters SVR:  0.17640578924648354\n"
     ]
    }
   ],
   "source": [
    "import numpy as np\n",
    "from sklearn.svm import SVR\n",
    "from sklearn.datasets import load_diabetes\n",
    "from sklearn.preprocessing import StandardScaler\n",
    "from sklearn.model_selection import train_test_split\n",
    "from sklearn.model_selection import GridSearchCV\n",
    "# 导入数据集\n",
    "diabetes_data = load_diabetes()\n",
    "data = diabetes_data.data\n",
    "target = diabetes_data.target\n",
    "X_train, X_test, Y_train, Y_test = train_test_split(\n",
    "    data,\n",
    "    target,\n",
    "    test_size=0.2,\n",
    "    random_state=1\n",
    ")\n",
    "# 标准化\n",
    "STD = StandardScaler()\n",
    "STD.fit(X_train)\n",
    "X_train = STD.transform(X_train)\n",
    "X_test = STD.transform(X_test)\n",
    "\n",
    "# 网格搜索\n",
    "param_grid = {\"kernel\":[\"linear\", \"rbf\", \"sigmoid\"], \"degree\":[1, 3, 5, 7],\n",
    "              \"gamma\":[\"scale\", \"auto\"], \"C\":[0.1, 1, 10, 100]}\n",
    "model = SVR()\n",
    "grid_search = GridSearchCV(model, param_grid, cv=4, scoring=\"r2\")\n",
    "grid_search.fit(data, target)\n",
    "print(grid_search.best_params_)\n",
    "\n",
    "# 用网格搜索出的参数训练模型\n",
    "model = SVR(C=10, degree=1, gamma=\"scale\", kernel=\"sigmoid\")\n",
    "model.fit(X_train, Y_train)\n",
    "print(\"parameters = {'C': 10, 'degree': 1, 'gamma': 'scale', 'kernel': 'sigmoid'}:\")\n",
    "print(\"Score :\", model.score(X_test, Y_test))\n",
    "# 默认参数的对照组\n",
    "model = SVR()\n",
    "model.fit(X_train, Y_train)\n",
    "print(\"Default Parameters SVR: \", model.score(X_test, Y_test))\n"
   ]
  },
  {
   "cell_type": "code",
   "execution_count": null,
   "metadata": {},
   "outputs": [],
   "source": []
  }
 ],
 "metadata": {
  "kernelspec": {
   "display_name": "Python [conda env:ML]",
   "language": "python",
   "name": "conda-env-ML-py"
  },
  "language_info": {
   "codemirror_mode": {
    "name": "ipython",
    "version": 3
   },
   "file_extension": ".py",
   "mimetype": "text/x-python",
   "name": "python",
   "nbconvert_exporter": "python",
   "pygments_lexer": "ipython3",
   "version": "3.8.13"
  },
  "varInspector": {
   "cols": {
    "lenName": 16,
    "lenType": 16,
    "lenVar": 40
   },
   "kernels_config": {
    "python": {
     "delete_cmd_postfix": "",
     "delete_cmd_prefix": "del ",
     "library": "var_list.py",
     "varRefreshCmd": "print(var_dic_list())"
    },
    "r": {
     "delete_cmd_postfix": ") ",
     "delete_cmd_prefix": "rm(",
     "library": "var_list.r",
     "varRefreshCmd": "cat(var_dic_list()) "
    }
   },
   "types_to_exclude": [
    "module",
    "function",
    "builtin_function_or_method",
    "instance",
    "_Feature"
   ],
   "window_display": false
  }
 },
 "nbformat": 4,
 "nbformat_minor": 4
}
