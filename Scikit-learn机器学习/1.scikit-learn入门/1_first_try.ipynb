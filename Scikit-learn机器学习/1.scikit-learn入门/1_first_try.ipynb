{
 "cells": [
  {
   "cell_type": "code",
   "execution_count": 1,
   "metadata": {
    "ExecuteTime": {
     "end_time": "2022-07-21T09:46:17.853683Z",
     "start_time": "2022-07-21T09:46:15.575774Z"
    }
   },
   "outputs": [
    {
     "name": "stdout",
     "output_type": "stream",
     "text": [
      "训练出的截距为：-1.1162\n",
      "训练出的权值为：1.4877\n",
      "\n",
      "训练出的模型在训练集上得分为：0.987354\n",
      "训练出的模型在测试集上得分为：0.989764\n",
      "\n"
     ]
    },
    {
     "data": {
      "image/png": "[encoded data removed]",
      "text/plain": [
       "<Figure size 432x288 with 1 Axes>"
      ]
     },
     "metadata": {
      "needs_background": "light"
     },
     "output_type": "display_data"
    }
   ],
   "source": [
    "# 导入numpy用于数据处理\n",
    "import numpy as np\n",
    "# 导入matplotlib库用于数据可视化\n",
    "import matplotlib.pyplot as plt\n",
    "# 导入线性模型中的线性回归算法\n",
    "from sklearn.linear_model import LinearRegression\n",
    "# 导入划分数据集方法\n",
    "from sklearn.model_selection import train_test_split\n",
    "\n",
    "# 生成100个[0， 10]的随机数，改为列向量\n",
    "X = np.random.random(200) * 20 - 10\n",
    "Y = 1.5 * X - 1.2 + np.random.randn(200)\n",
    "\n",
    "# 改为scikit-learn库中算法可以直接接受的二维上的列向量\n",
    "data = X.reshape(-1, 1)\n",
    "target = Y.reshape(-1, 1)\n",
    "\n",
    "# 划分训练集和测试集\n",
    "X_train, X_test, Y_train, Y_test = train_test_split(\n",
    "    data,\n",
    "    target,\n",
    "    test_size=0.2,\n",
    "    random_state=1\n",
    ")\n",
    "\n",
    "model = LinearRegression()\n",
    "model.fit(X_train, Y_train)\n",
    "\n",
    "# 打印训练出的参数信息\n",
    "print(\"训练出的截距为：%.4f\" % model.intercept_)\n",
    "print(\"训练出的权值为：%.4f\\n\" % model.coef_)\n",
    "\n",
    "# 预测\n",
    "Y_predict = model.predict(X_test)\n",
    "# 模型评分\n",
    "print(\"训练出的模型在训练集上得分为：%.6f\" % model.score(X_train, Y_train))\n",
    "print(\"训练出的模型在测试集上得分为：%.6f\\n\" % model.score(X_test, Y_test))\n",
    "\n",
    "# 预测结果图像\n",
    "plt.title(\"Predict Result\")\n",
    "plt.scatter(X_test, Y_test, label=\"Test Data\", s=30, c=\"r\")\n",
    "plt.plot(X_test, Y_predict, label=\"Fitted\", c=\"b\")\n",
    "plt.legend(loc=0)\n",
    "plt.show()"
   ]
  },
  {
   "cell_type": "code",
   "execution_count": null,
   "metadata": {},
   "outputs": [],
   "source": []
  }
 ],
 "metadata": {
  "kernelspec": {
   "display_name": "Python [conda env:ML]",
   "language": "python",
   "name": "conda-env-ML-py"
  },
  "language_info": {
   "codemirror_mode": {
    "name": "ipython",
    "version": 3
   },
   "file_extension": ".py",
   "mimetype": "text/x-python",
   "name": "python",
   "nbconvert_exporter": "python",
   "pygments_lexer": "ipython3",
   "version": "3.8.13"
  },
  "varInspector": {
   "cols": {
    "lenName": 16,
    "lenType": 16,
    "lenVar": 40
   },
   "kernels_config": {
    "python": {
     "delete_cmd_postfix": "",
     "delete_cmd_prefix": "del ",
     "library": "var_list.py",
     "varRefreshCmd": "print(var_dic_list())"
    },
    "r": {
     "delete_cmd_postfix": ") ",
     "delete_cmd_prefix": "rm(",
     "library": "var_list.r",
     "varRefreshCmd": "cat(var_dic_list()) "
    }
   },
   "types_to_exclude": [
    "module",
    "function",
    "builtin_function_or_method",
    "instance",
    "_Feature"
   ],
   "window_display": false
  }
 },
 "nbformat": 4,
 "nbformat_minor": 4
}
