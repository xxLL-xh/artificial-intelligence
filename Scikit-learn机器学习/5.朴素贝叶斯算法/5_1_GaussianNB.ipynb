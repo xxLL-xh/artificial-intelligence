{
 "cells": [
  {
   "cell_type": "code",
   "execution_count": 2,
   "metadata": {
    "ExecuteTime": {
     "end_time": "2022-07-22T01:25:32.100245Z",
     "start_time": "2022-07-22T01:25:32.064261Z"
    }
   },
   "outputs": [
    {
     "name": "stdout",
     "output_type": "stream",
     "text": [
      "测试数据预测值： [0 1 1 0 2 1 2 0 0 2 1 0 2 1 1 0 1 1 0 0 1 1 2 0 2 1 0 0 1 2]\n",
      "测试数据实际值： [0 1 1 0 2 1 2 0 0 2 1 0 2 1 1 0 1 1 0 0 1 1 1 0 2 1 0 0 1 2]\n",
      "训练集上得分为： 0.95\n",
      "测试集上得分为： 0.9666666666666667\n",
      "前五条测试数据属于每个类的概率（保留三位）：\n",
      " [[1.    0.    0.   ]\n",
      " [0.    1.    0.   ]\n",
      " [0.    0.977 0.023]\n",
      " [1.    0.    0.   ]\n",
      " [0.    0.    1.   ]]\n",
      "class_count_ [39. 37. 44.]\n",
      "class_prior_ [0.325      0.30833333 0.36666667]\n",
      "classes_ [0 1 2]\n",
      "var_\n",
      " [[0.10749507 0.13042735 0.02529915 0.01094017]\n",
      " [0.274916   0.10651571 0.21344047 0.03943024]\n",
      " [0.38642046 0.09204029 0.30315599 0.0788998 ]]\n",
      "theta_\n",
      " [[4.96153846 3.36666667 1.46666667 0.23333333]\n",
      " [5.94594595 2.73243243 4.22972973 1.30540541]\n",
      " [6.525      2.95227273 5.53409091 2.02045455]]\n"
     ]
    }
   ],
   "source": [
    "from sklearn.naive_bayes import GaussianNB\n",
    "from sklearn.datasets import load_iris\n",
    "from sklearn.model_selection import train_test_split\n",
    "\n",
    "# 导入鸢尾花数据\n",
    "iris_data = load_iris()\n",
    "data = iris_data.data\n",
    "target = iris_data.target\n",
    "# 划分数据集\n",
    "X_train, X_test, Y_train, Y_test = train_test_split(\n",
    "    data,\n",
    "    target,\n",
    "    test_size=0.2,\n",
    "    random_state=1\n",
    ")\n",
    "\n",
    "model = GaussianNB()\n",
    "\n",
    "# 训练\n",
    "model.fit(X_train, Y_train)\n",
    "# 测试\n",
    "print(\"测试数据预测值：\", model.predict(X_test))\n",
    "print(\"测试数据实际值：\", Y_test)\n",
    "# 得分\n",
    "print(\"训练集上得分为：\", model.score(X_train, Y_train))\n",
    "print(\"测试集上得分为：\", model.score(X_test, Y_test))\n",
    "# X_test中前五个样本属于每一个类别的概率\n",
    "print(\"前五条测试数据属于每个类的概率（保留三位）：\\n\", np.round(model.predict_proba(X_test[:5]), 3))\n",
    "\n",
    "# 查看参数\n",
    "print(\"class_count_\", model.class_count_)\n",
    "print(\"class_prior_\", model.class_prior_)\n",
    "print(\"classes_\", model.classes_)\n",
    "print(\"var_\\n\", model.var_)\n",
    "print(\"theta_\\n\", model.theta_)\n"
   ]
  },
  {
   "cell_type": "code",
   "execution_count": null,
   "metadata": {},
   "outputs": [],
   "source": []
  }
 ],
 "metadata": {
  "kernelspec": {
   "display_name": "Python [conda env:ML]",
   "language": "python",
   "name": "conda-env-ML-py"
  },
  "language_info": {
   "codemirror_mode": {
    "name": "ipython",
    "version": 3
   },
   "file_extension": ".py",
   "mimetype": "text/x-python",
   "name": "python",
   "nbconvert_exporter": "python",
   "pygments_lexer": "ipython3",
   "version": "3.8.13"
  },
  "varInspector": {
   "cols": {
    "lenName": 16,
    "lenType": 16,
    "lenVar": 40
   },
   "kernels_config": {
    "python": {
     "delete_cmd_postfix": "",
     "delete_cmd_prefix": "del ",
     "library": "var_list.py",
     "varRefreshCmd": "print(var_dic_list())"
    },
    "r": {
     "delete_cmd_postfix": ") ",
     "delete_cmd_prefix": "rm(",
     "library": "var_list.r",
     "varRefreshCmd": "cat(var_dic_list()) "
    }
   },
   "types_to_exclude": [
    "module",
    "function",
    "builtin_function_or_method",
    "instance",
    "_Feature"
   ],
   "window_display": false
  }
 },
 "nbformat": 4,
 "nbformat_minor": 4
}
