{
 "cells": [
  {
   "cell_type": "code",
   "execution_count": 1,
   "metadata": {
    "ExecuteTime": {
     "end_time": "2022-07-22T01:29:13.020114Z",
     "start_time": "2022-07-22T01:29:12.133503Z"
    }
   },
   "outputs": [
    {
     "name": "stdout",
     "output_type": "stream",
     "text": [
      "BernoulliNB Train Score(Continuous)\n",
      " 0.425\n",
      "BernoulliNB Test Score(Continuous)\n",
      " 0.2\n",
      "BernoulliNB Train Score(Binary Discrete)\n",
      " 0.725\n",
      "BernoulliNB Test Score(Binary Discrete)\n",
      " 0.8333333333333334\n",
      "class_count_ [39. 37. 44.]\n",
      "class_log_prior_ [-1.1239301  -1.17657383 -1.00330211]\n",
      "classes_ [0 1 2]\n",
      "feature_count_\n",
      " [[ 0. 25.  0.  0.]\n",
      " [15.  1. 27. 26.]\n",
      " [35.  7. 44. 44.]]\n",
      "feature_log_prob_\n",
      " [[-3.71357207 -0.45547553 -3.71357207 -3.71357207]\n",
      " [-0.89097292 -2.97041447 -0.33135714 -0.36772478]\n",
      " [-0.24512246 -1.74919985 -0.02197891 -0.02197891]]\n"
     ]
    }
   ],
   "source": [
    "from sklearn.datasets import load_iris\n",
    "from sklearn.naive_bayes import BernoulliNB\n",
    "from sklearn.model_selection import train_test_split\n",
    "from sklearn.preprocessing import binarize\n",
    "from sklearn.preprocessing import MinMaxScaler\n",
    "# 导入鸢尾花数据\n",
    "iris_data = load_iris()\n",
    "data = iris_data.data\n",
    "target = iris_data.target\n",
    "# 划分数据集\n",
    "X_train, X_test, Y_train, Y_test = train_test_split(\n",
    "    data,\n",
    "    target,\n",
    "    test_size=0.2,\n",
    "    random_state=1\n",
    ")\n",
    "# 对数据归一化\n",
    "threshold = 0.5    # 二元离散化阈值\n",
    "MMS = MinMaxScaler()\n",
    "MMS.fit(X_train)    # 只在训练集上训练归一化处理器\n",
    "X_train = MMS.transform(X_train)\n",
    "X_test = MMS.transform(X_test)\n",
    "# 本实验在之后用算法构造函数的binarize参数进行二元离散化\n",
    "# 故，以下步骤仅供参考，不需要加上。\n",
    "# X_train = binarize(X_train, threshold=threshold)\n",
    "# X_test = binarize(X_test, threshold=threshold)\n",
    "\n",
    "model_c = BernoulliNB()\n",
    "model_bi = BernoulliNB(binarize=threshold)    \n",
    "\n",
    "# 训练\n",
    "model_c.fit(X_train, Y_train)\n",
    "model_bi.fit(X_train, Y_train)\n",
    "# 评分\n",
    "print(\"BernoulliNB Train Score(Continuous)\\n\", model_c.score(X_train, Y_train))\n",
    "print(\"BernoulliNB Test Score(Continuous)\\n\", model_c.score(X_test, Y_test))\n",
    "print(\"BernoulliNB Train Score(Binary Discrete)\\n\", model_bi.score(X_train, Y_train))\n",
    "print(\"BernoulliNB Test Score(Binary Discrete)\\n\", model_bi.score(X_test, Y_test))\n",
    "\n",
    "# 查看参数\n",
    "print(\"class_count_\", model_bi.class_count_)\n",
    "print(\"class_log_prior_\", model_bi.class_log_prior_)\n",
    "print(\"classes_\", model_bi.classes_)\n",
    "print(\"feature_count_\\n\", model_bi.feature_count_)\n",
    "print(\"feature_log_prob_\\n\", model_bi.feature_log_prob_)\n"
   ]
  },
  {
   "cell_type": "code",
   "execution_count": null,
   "metadata": {},
   "outputs": [],
   "source": []
  }
 ],
 "metadata": {
  "kernelspec": {
   "display_name": "Python [conda env:ML]",
   "language": "python",
   "name": "conda-env-ML-py"
  },
  "language_info": {
   "codemirror_mode": {
    "name": "ipython",
    "version": 3
   },
   "file_extension": ".py",
   "mimetype": "text/x-python",
   "name": "python",
   "nbconvert_exporter": "python",
   "pygments_lexer": "ipython3",
   "version": "3.8.13"
  },
  "varInspector": {
   "cols": {
    "lenName": 16,
    "lenType": 16,
    "lenVar": 40
   },
   "kernels_config": {
    "python": {
     "delete_cmd_postfix": "",
     "delete_cmd_prefix": "del ",
     "library": "var_list.py",
     "varRefreshCmd": "print(var_dic_list())"
    },
    "r": {
     "delete_cmd_postfix": ") ",
     "delete_cmd_prefix": "rm(",
     "library": "var_list.r",
     "varRefreshCmd": "cat(var_dic_list()) "
    }
   },
   "types_to_exclude": [
    "module",
    "function",
    "builtin_function_or_method",
    "instance",
    "_Feature"
   ],
   "window_display": false
  }
 },
 "nbformat": 4,
 "nbformat_minor": 4
}
