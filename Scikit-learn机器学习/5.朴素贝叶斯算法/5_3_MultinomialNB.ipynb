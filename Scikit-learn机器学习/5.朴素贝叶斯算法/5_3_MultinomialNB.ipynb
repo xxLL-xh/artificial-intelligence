{
 "cells": [
  {
   "cell_type": "code",
   "execution_count": 1,
   "metadata": {
    "ExecuteTime": {
     "end_time": "2022-07-22T01:33:11.961780Z",
     "start_time": "2022-07-22T01:33:11.926901Z"
    }
   },
   "outputs": [
    {
     "name": "stdout",
     "output_type": "stream",
     "text": [
      "MultinomialNB Train Score 0.9666666666666667\n",
      "MultinomialNB Test Score 0.9666666666666667\n"
     ]
    }
   ],
   "source": [
    "from sklearn.naive_bayes import MultinomialNB\n",
    "from sklearn.datasets import load_iris\n",
    "from sklearn.model_selection import train_test_split\n",
    "from sklearn.preprocessing import KBinsDiscretizer\n",
    "from sklearn.preprocessing import MinMaxScaler\n",
    "\n",
    "# 导入鸢尾花数据\n",
    "iris_data = load_iris()\n",
    "data = iris_data.data\n",
    "target = iris_data.target\n",
    "# 划分数据集\n",
    "X_train, X_test, Y_train, Y_test = train_test_split(\n",
    "    data,\n",
    "    target,\n",
    "    test_size=0.2,\n",
    "    random_state=1\n",
    ")\n",
    "# 先对数据归一化，然后把样本特征改成k元离散的数据\n",
    "MMS = MinMaxScaler()\n",
    "MMS.fit(X_train)\n",
    "X_train = MMS.transform(X_train)\n",
    "X_test = MMS.transform(X_test)\n",
    "kbs = KBinsDiscretizer(n_bins=6)\n",
    "kbs.fit(X_train)\n",
    "X_train = kbs.transform(X_train)\n",
    "X_test = kbs.transform(X_test)\n",
    "\n",
    "# 创建实例\n",
    "model = MultinomialNB()\n",
    "# 训练\n",
    "model.fit(X_train, Y_train)\n",
    "# 评分\n",
    "print(\"MultinomialNB Train Score\", model.score(X_train, Y_train))\n",
    "print(\"MultinomialNB Test Score\", model.score(X_test, Y_test))\n"
   ]
  },
  {
   "cell_type": "code",
   "execution_count": null,
   "metadata": {},
   "outputs": [],
   "source": []
  }
 ],
 "metadata": {
  "kernelspec": {
   "display_name": "Python [conda env:ML]",
   "language": "python",
   "name": "conda-env-ML-py"
  },
  "language_info": {
   "codemirror_mode": {
    "name": "ipython",
    "version": 3
   },
   "file_extension": ".py",
   "mimetype": "text/x-python",
   "name": "python",
   "nbconvert_exporter": "python",
   "pygments_lexer": "ipython3",
   "version": "3.8.13"
  },
  "varInspector": {
   "cols": {
    "lenName": 16,
    "lenType": 16,
    "lenVar": 40
   },
   "kernels_config": {
    "python": {
     "delete_cmd_postfix": "",
     "delete_cmd_prefix": "del ",
     "library": "var_list.py",
     "varRefreshCmd": "print(var_dic_list())"
    },
    "r": {
     "delete_cmd_postfix": ") ",
     "delete_cmd_prefix": "rm(",
     "library": "var_list.r",
     "varRefreshCmd": "cat(var_dic_list()) "
    }
   },
   "types_to_exclude": [
    "module",
    "function",
    "builtin_function_or_method",
    "instance",
    "_Feature"
   ],
   "window_display": false
  }
 },
 "nbformat": 4,
 "nbformat_minor": 4
}
