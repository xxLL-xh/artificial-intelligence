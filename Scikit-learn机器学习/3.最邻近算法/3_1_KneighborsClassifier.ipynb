{
 "cells": [
  {
   "cell_type": "code",
   "execution_count": 1,
   "metadata": {
    "ExecuteTime": {
     "end_time": "2022-07-22T00:50:14.468442Z",
     "start_time": "2022-07-22T00:50:14.409588Z"
    }
   },
   "outputs": [
    {
     "name": "stdout",
     "output_type": "stream",
     "text": [
      "\n",
      "训练集评分 0.9666666666666667\n",
      "测试集评分 1.0\n",
      "最后三条测试数据 [[5.1 3.8 1.5 0.3]\n",
      " [6.1 2.8 4.7 1.2]\n",
      " [6.3 2.5 5.  1.9]]\n",
      "最后三条测试数据最近的6个点的距离及其序号索引\n",
      "(array([[0.13282312, 0.25090762, 0.31011353, 0.39820049, 0.48370515,\n",
      "        0.51996092],\n",
      "       [0.30792086, 0.31388393, 0.40120097, 0.42131564, 0.43800243,\n",
      "        0.48747647],\n",
      "       [0.48119397, 0.48733923, 0.51739391, 0.59207665, 0.59903286,\n",
      "        0.68995497]]), array([[ 43,  83,   5,  50,  17, 119],\n",
      "       [ 63, 102, 112,  45, 115,  40],\n",
      "       [ 32,  56, 117,   9,  55, 108]], dtype=int64))\n",
      "最后三条测试数据属于每一类的概率\n",
      "[[1.         0.         0.        ]\n",
      " [0.         0.83333333 0.16666667]\n",
      " [0.         0.33333333 0.66666667]]\n",
      "最后三条测试数据的分类结果为 [0 1 2]\n",
      "最后三条测试数据的实际类别位 [0 1 2]\n",
      "classes_ [0 1 2]\n",
      "effective_metric_ minkowski\n",
      "effective_metric_params_ {'p': 3, 'w': None}\n",
      "n_features_in_ 4\n",
      "n_samples_fit_ 120\n"
     ]
    }
   ],
   "source": [
    "from sklearn.neighbors import KNeighborsClassifier\n",
    "from sklearn.model_selection import train_test_split\n",
    "from sklearn.preprocessing import StandardScaler\n",
    "from sklearn.datasets import load_iris\n",
    "\n",
    "iris_data = load_iris()\n",
    "data = iris_data.data\n",
    "target = iris_data.target\n",
    "# 划分数据集\n",
    "X_train, X_test, Y_train, Y_test = train_test_split(\n",
    "    data,\n",
    "    target,\n",
    "    test_size=0.2,\n",
    "    random_state=1\n",
    ")\n",
    "X = X_test[-3:]    # 取最后3个测试数据单独检验\n",
    "# 标准化\n",
    "STD = StandardScaler()\n",
    "STD.fit(X_train)\n",
    "X_train = STD.transform(X_train)\n",
    "X_test = STD.transform(X_test)\n",
    "\n",
    "model1 = KNeighborsClassifier(n_neighbors=6, p=3)\n",
    "\n",
    "# 训练\n",
    "model1.fit(X_train, Y_train)\n",
    "# 评分\n",
    "print(\"\\n训练集评分\", model1.score(X_train, Y_train))\n",
    "print(\"测试集评分\", model1.score(X_test, Y_test))\n",
    "print(\"最后三条测试数据\", X)\n",
    "X = STD.transform(X)\n",
    "print(\"最后三条测试数据最近的6个点的距离及其序号索引\")\n",
    "print(model1.kneighbors(X, n_neighbors=6, return_distance=True))\n",
    "print(\"最后三条测试数据属于每一类的概率\")\n",
    "print(model1.predict_proba(X))\n",
    "print(\"最后三条测试数据的分类结果为\", model1.predict(X))\n",
    "print(\"最后三条测试数据的实际类别位\", Y_test[-3:])\n",
    "\n",
    "# 查看参数\n",
    "print(\"classes_\", model1.classes_)\n",
    "print(\"effective_metric_\", model1.effective_metric_)\n",
    "print(\"effective_metric_params_\", model1.effective_metric_params_)\n",
    "print(\"n_features_in_\", model1.n_features_in_)\n",
    "# print(\"feature_names_in_\", model1.feature_names_in_)\n",
    "print(\"n_samples_fit_\", model1.n_samples_fit_)\n"
   ]
  },
  {
   "cell_type": "code",
   "execution_count": null,
   "metadata": {},
   "outputs": [],
   "source": []
  }
 ],
 "metadata": {
  "kernelspec": {
   "display_name": "Python [conda env:ML]",
   "language": "python",
   "name": "conda-env-ML-py"
  },
  "language_info": {
   "codemirror_mode": {
    "name": "ipython",
    "version": 3
   },
   "file_extension": ".py",
   "mimetype": "text/x-python",
   "name": "python",
   "nbconvert_exporter": "python",
   "pygments_lexer": "ipython3",
   "version": "3.8.13"
  },
  "varInspector": {
   "cols": {
    "lenName": 16,
    "lenType": 16,
    "lenVar": 40
   },
   "kernels_config": {
    "python": {
     "delete_cmd_postfix": "",
     "delete_cmd_prefix": "del ",
     "library": "var_list.py",
     "varRefreshCmd": "print(var_dic_list())"
    },
    "r": {
     "delete_cmd_postfix": ") ",
     "delete_cmd_prefix": "rm(",
     "library": "var_list.r",
     "varRefreshCmd": "cat(var_dic_list()) "
    }
   },
   "types_to_exclude": [
    "module",
    "function",
    "builtin_function_or_method",
    "instance",
    "_Feature"
   ],
   "window_display": false
  }
 },
 "nbformat": 4,
 "nbformat_minor": 4
}
