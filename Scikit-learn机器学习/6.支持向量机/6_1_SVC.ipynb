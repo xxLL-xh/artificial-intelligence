{
 "cells": [
  {
   "cell_type": "code",
   "execution_count": 2,
   "metadata": {
    "ExecuteTime": {
     "end_time": "2022-07-22T01:37:46.536859Z",
     "start_time": "2022-07-22T01:37:45.470892Z"
    }
   },
   "outputs": [
    {
     "name": "stdout",
     "output_type": "stream",
     "text": [
      "Train Score：\n",
      " 0.9958246346555324\n",
      "Test Score:\n",
      " 0.9916666666666667\n",
      "\n",
      "第1个测试数据\n",
      "图像为：\n"
     ]
    },
    {
     "data": {
      "image/png": "[encoded data removed]",
      "text/plain": [
       "<Figure size 288x288 with 1 Axes>"
      ]
     },
     "metadata": {
      "needs_background": "light"
     },
     "output_type": "display_data"
    },
    {
     "name": "stdout",
     "output_type": "stream",
     "text": [
      "识别结果为： 1\n",
      "实际值为： 1\n",
      "\n",
      "第2个测试数据\n",
      "图像为：\n"
     ]
    },
    {
     "data": {
      "image/png": "[encoded data removed]",
      "text/plain": [
       "<Figure size 288x288 with 1 Axes>"
      ]
     },
     "metadata": {
      "needs_background": "light"
     },
     "output_type": "display_data"
    },
    {
     "name": "stdout",
     "output_type": "stream",
     "text": [
      "识别结果为： 5\n",
      "实际值为： 5\n",
      "\n",
      "第3个测试数据\n",
      "图像为：\n"
     ]
    },
    {
     "data": {
      "image/png": "[encoded data removed]",
      "text/plain": [
       "<Figure size 288x288 with 1 Axes>"
      ]
     },
     "metadata": {
      "needs_background": "light"
     },
     "output_type": "display_data"
    },
    {
     "name": "stdout",
     "output_type": "stream",
     "text": [
      "识别结果为： 0\n",
      "实际值为： 0\n",
      "\n",
      "第4个测试数据\n",
      "图像为：\n"
     ]
    },
    {
     "data": {
      "image/png": "[encoded data removed]",
      "text/plain": [
       "<Figure size 288x288 with 1 Axes>"
      ]
     },
     "metadata": {
      "needs_background": "light"
     },
     "output_type": "display_data"
    },
    {
     "name": "stdout",
     "output_type": "stream",
     "text": [
      "识别结果为： 7\n",
      "实际值为： 7\n",
      "class_weight_ [1. 1. 1. 1. 1. 1. 1. 1. 1. 1.]\n",
      "classes_ [0 1 2 3 4 5 6 7 8 9]\n",
      "intercept_\n",
      " [-0.60974129 -0.35817331 -0.3370448  -0.53599306 -0.62038218 -0.32076925\n",
      " -0.41980228 -0.32741913 -0.34066812  0.42802252  0.48641298  0.09057154\n",
      "  0.34862853  0.49583321  0.15005204  0.61666948  0.44673778  0.14798082\n",
      " -0.12728576 -0.01634455  0.16378511 -0.00519837  0.20093504  0.05304571\n",
      " -0.27525132 -0.07591399  0.03702666 -0.13370608 -0.01164667  0.03539593\n",
      "  0.2669467   0.49877404  0.11821526  0.23895288  0.10612412  0.32635818\n",
      " -0.10147992  0.20735046 -0.32057528 -0.17512989 -0.13084603 -0.17865321\n",
      "  0.25312189  0.00379676 -0.2007705 ]\n",
      "fit_status_ 0\n",
      "n_support_ [39 79 58 64 58 68 45 62 95 83]\n",
      "shape_fit_ (1437, 64)\n"
     ]
    }
   ],
   "source": [
    "import matplotlib.pyplot as plt\n",
    "from sklearn.svm import SVC\n",
    "from sklearn.datasets import load_digits\n",
    "from sklearn.preprocessing import MinMaxScaler  \n",
    "from sklearn.model_selection import train_test_split\n",
    "# 导入数字图像数据集\n",
    "digits = load_digits()\n",
    "data = digits.data\n",
    "target = digits.target\n",
    "images = digits.images\n",
    "# 划分数据集\n",
    "X_train, X_test, Y_train, Y_test = train_test_split(\n",
    "    data,\n",
    "    target,\n",
    "    test_size=0.2,\n",
    "    random_state=1\n",
    ")\n",
    "# 在对数据预处理前，先保存下测试集的数字图像和实际值\n",
    "test_images = X_test.reshape(360, 8, 8)\n",
    "# 归一化\n",
    "MMS = MinMaxScaler()\n",
    "MMS.fit(X_train)\n",
    "X_train = MMS.transform(X_train)\n",
    "X_test = MMS.transform(X_test)\n",
    "\n",
    "# 创建模型\n",
    "model = SVC(kernel=\"rbf\")\n",
    "\n",
    "# 训练模型\n",
    "model.fit(X_train, Y_train)\n",
    "# 评分\n",
    "print(\"Train Score：\\n\", model.score(X_train, Y_train))\n",
    "print(\"Test Score:\\n\", model.score(X_test, Y_test))\n",
    "# 测试\n",
    "for i in range(4):\n",
    "    print(\"\\n第%d个测试数据\" % (i + 1))\n",
    "    print(\"图像为：\")\n",
    "    plt.matshow(test_images[i])\n",
    "    plt.show()\n",
    "    print(\"识别结果为：\", model.predict(X_test[i].reshape(1, -1))[0])\n",
    "    print(\"实际值为：\", Y_test[i])\n",
    "\n",
    "print(\"class_weight_\", model.class_weight_)\n",
    "print(\"classes_\", model.classes_)\n",
    "#print(\"coef_\", model.coef_)    # coef_是线性核函数的参数\n",
    "print(\"intercept_\\n\", model.intercept_)\n",
    "print(\"fit_status_\", model.fit_status_)\n",
    "#print(\"support_\", model.support_)\n",
    "#print(\"support_vectors_\", model.support_vectors_)\n",
    "print(\"n_support_\", model.n_support_)\n",
    "print(\"shape_fit_\", model.shape_fit_)"
   ]
  },
  {
   "cell_type": "code",
   "execution_count": null,
   "metadata": {},
   "outputs": [],
   "source": []
  }
 ],
 "metadata": {
  "kernelspec": {
   "display_name": "Python [conda env:ML]",
   "language": "python",
   "name": "conda-env-ML-py"
  },
  "language_info": {
   "codemirror_mode": {
    "name": "ipython",
    "version": 3
   },
   "file_extension": ".py",
   "mimetype": "text/x-python",
   "name": "python",
   "nbconvert_exporter": "python",
   "pygments_lexer": "ipython3",
   "version": "3.8.13"
  },
  "varInspector": {
   "cols": {
    "lenName": 16,
    "lenType": 16,
    "lenVar": 40
   },
   "kernels_config": {
    "python": {
     "delete_cmd_postfix": "",
     "delete_cmd_prefix": "del ",
     "library": "var_list.py",
     "varRefreshCmd": "print(var_dic_list())"
    },
    "r": {
     "delete_cmd_postfix": ") ",
     "delete_cmd_prefix": "rm(",
     "library": "var_list.r",
     "varRefreshCmd": "cat(var_dic_list()) "
    }
   },
   "types_to_exclude": [
    "module",
    "function",
    "builtin_function_or_method",
    "instance",
    "_Feature"
   ],
   "window_display": false
  }
 },
 "nbformat": 4,
 "nbformat_minor": 4
}
