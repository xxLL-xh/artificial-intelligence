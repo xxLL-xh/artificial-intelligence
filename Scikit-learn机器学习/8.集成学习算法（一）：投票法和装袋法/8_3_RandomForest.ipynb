{
 "cells": [
  {
   "cell_type": "code",
   "execution_count": 5,
   "metadata": {
    "ExecuteTime": {
     "end_time": "2022-07-22T02:14:14.986880Z",
     "start_time": "2022-07-22T02:14:14.900808Z"
    }
   },
   "outputs": [
    {
     "name": "stdout",
     "output_type": "stream",
     "text": [
      "RandomForestClassifier Score:  0.9666666666666667\n",
      "Feature Importance:  [0.15358465 0.07074923 0.40639763 0.36926849]\n"
     ]
    }
   ],
   "source": [
    "from sklearn.ensemble import RandomForestClassifier\n",
    "from sklearn.datasets import load_iris\n",
    "from sklearn.model_selection import train_test_split\n",
    "iris = load_iris()\n",
    "data = iris.data\n",
    "target = iris.target\n",
    "\n",
    "X_train, X_test, Y_train, Y_test = train_test_split(\n",
    "  data, \n",
    "  target, \n",
    "  test_size=0.2,\n",
    "  random_state=1\n",
    ")\n",
    "rnd_clf = RandomForestClassifier(max_depth=5, n_estimators=20,max_samples=20, \n",
    "                                 bootstrap=True, n_jobs=-1, oob_score=True)\n",
    "rnd_clf.fit(X_train, Y_train)\n",
    "print(\"RandomForestClassifier Score: \", rnd_clf.score(X_test, Y_test))\n",
    "\n",
    "\n",
    "print(\"Feature Importance: \", rnd_clf.feature_importances_)"
   ]
  },
  {
   "cell_type": "code",
   "execution_count": null,
   "metadata": {},
   "outputs": [],
   "source": []
  }
 ],
 "metadata": {
  "kernelspec": {
   "display_name": "Python [conda env:ML]",
   "language": "python",
   "name": "conda-env-ML-py"
  },
  "language_info": {
   "codemirror_mode": {
    "name": "ipython",
    "version": 3
   },
   "file_extension": ".py",
   "mimetype": "text/x-python",
   "name": "python",
   "nbconvert_exporter": "python",
   "pygments_lexer": "ipython3",
   "version": "3.8.13"
  },
  "varInspector": {
   "cols": {
    "lenName": 16,
    "lenType": 16,
    "lenVar": 40
   },
   "kernels_config": {
    "python": {
     "delete_cmd_postfix": "",
     "delete_cmd_prefix": "del ",
     "library": "var_list.py",
     "varRefreshCmd": "print(var_dic_list())"
    },
    "r": {
     "delete_cmd_postfix": ") ",
     "delete_cmd_prefix": "rm(",
     "library": "var_list.r",
     "varRefreshCmd": "cat(var_dic_list()) "
    }
   },
   "types_to_exclude": [
    "module",
    "function",
    "builtin_function_or_method",
    "instance",
    "_Feature"
   ],
   "window_display": false
  }
 },
 "nbformat": 4,
 "nbformat_minor": 4
}
