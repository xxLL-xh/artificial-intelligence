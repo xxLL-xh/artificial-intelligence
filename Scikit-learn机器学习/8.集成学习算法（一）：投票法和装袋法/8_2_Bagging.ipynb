{
 "cells": [
  {
   "cell_type": "code",
   "execution_count": 1,
   "metadata": {
    "ExecuteTime": {
     "end_time": "2022-07-22T02:10:35.325304Z",
     "start_time": "2022-07-22T02:10:30.793023Z"
    }
   },
   "outputs": [
    {
     "name": "stdout",
     "output_type": "stream",
     "text": [
      "DecisionTreeClassifier(max_depth=5)\n",
      "train score: 0.9625\n",
      "test score: 0.75\n",
      "BaggingClassifier(base_estimator=DecisionTreeClassifier(max_depth=5),\n",
      "                  max_samples=20, n_estimators=500, n_jobs=-1, oob_score=True)\n",
      "train score: 0.9\n",
      "test score: 0.825\n",
      "BaggingClassifier(base_estimator=DecisionTreeClassifier(max_depth=5),\n",
      "                  bootstrap=False, max_samples=20, n_estimators=20, n_jobs=-1)\n",
      "train score: 0.9\n",
      "test score: 0.8\n",
      "\n",
      "有放回抽样集成的包外评估： 0.8875\n"
     ]
    }
   ],
   "source": [
    "import matplotlib.pyplot as plt\n",
    "from sklearn.datasets import make_moons\n",
    "from sklearn.model_selection import train_test_split\n",
    "from sklearn.tree import DecisionTreeClassifier\n",
    "from sklearn.ensemble import BaggingClassifier\n",
    "# 创建双月型数据集\n",
    "moons = make_moons(n_samples=(120, 80), noise=0.3, random_state=5)\n",
    "data = moons[0]\n",
    "target = moons[1]\n",
    "X_train, X_test, Y_train, Y_test = train_test_split(\n",
    "  data, \n",
    "  target, \n",
    "  test_size=0.2,\n",
    "  random_state=1\n",
    ")\n",
    "\n",
    "bag_clf = BaggingClassifier(\n",
    "    DecisionTreeClassifier(max_depth=5), n_estimators=500, \n",
    "    max_samples=20, bootstrap=True, n_jobs=-1, oob_score=True\n",
    ")\n",
    "past_clf = BaggingClassifier(\n",
    "    DecisionTreeClassifier(max_depth=5), n_estimators=20, \n",
    "    max_samples=20, bootstrap=False, n_jobs=-1\n",
    ")\n",
    "tree_clf = DecisionTreeClassifier(max_depth=5)\n",
    "\n",
    "for clf in (tree_clf, bag_clf, past_clf):\n",
    "    clf.fit(X_train, Y_train)\n",
    "    print(clf)\n",
    "    print(\"train score:\", clf.score(X_train, Y_train))\n",
    "    print(\"test score:\", clf.score(X_test, Y_test))\n",
    "print(\"\\n有放回抽样集成的包外评估：\", bag_clf.oob_score_)    # 包外评估\n"
   ]
  },
  {
   "cell_type": "code",
   "execution_count": null,
   "metadata": {},
   "outputs": [],
   "source": []
  }
 ],
 "metadata": {
  "kernelspec": {
   "display_name": "Python [conda env:ML]",
   "language": "python",
   "name": "conda-env-ML-py"
  },
  "language_info": {
   "codemirror_mode": {
    "name": "ipython",
    "version": 3
   },
   "file_extension": ".py",
   "mimetype": "text/x-python",
   "name": "python",
   "nbconvert_exporter": "python",
   "pygments_lexer": "ipython3",
   "version": "3.8.13"
  },
  "varInspector": {
   "cols": {
    "lenName": 16,
    "lenType": 16,
    "lenVar": 40
   },
   "kernels_config": {
    "python": {
     "delete_cmd_postfix": "",
     "delete_cmd_prefix": "del ",
     "library": "var_list.py",
     "varRefreshCmd": "print(var_dic_list())"
    },
    "r": {
     "delete_cmd_postfix": ") ",
     "delete_cmd_prefix": "rm(",
     "library": "var_list.r",
     "varRefreshCmd": "cat(var_dic_list()) "
    }
   },
   "types_to_exclude": [
    "module",
    "function",
    "builtin_function_or_method",
    "instance",
    "_Feature"
   ],
   "window_display": false
  }
 },
 "nbformat": 4,
 "nbformat_minor": 4
}
