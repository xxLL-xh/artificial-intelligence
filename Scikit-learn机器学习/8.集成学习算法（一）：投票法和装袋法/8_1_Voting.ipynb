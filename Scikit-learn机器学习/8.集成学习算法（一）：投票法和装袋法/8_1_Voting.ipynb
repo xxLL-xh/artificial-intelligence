{
 "cells": [
  {
   "cell_type": "code",
   "execution_count": 2,
   "metadata": {
    "ExecuteTime": {
     "end_time": "2022-07-22T02:07:19.352126Z",
     "start_time": "2022-07-22T02:07:19.159074Z"
    }
   },
   "outputs": [
    {
     "data": {
      "image/png": "[encoded data removed]",
      "text/plain": [
       "<Figure size 432x288 with 1 Axes>"
      ]
     },
     "metadata": {
      "needs_background": "light"
     },
     "output_type": "display_data"
    },
    {
     "name": "stdout",
     "output_type": "stream",
     "text": [
      "LogisticRegression 0.75\n",
      "SVC 0.75\n",
      "DecisionTreeClassifier 0.75\n",
      "KNeighborsClassifier 0.75\n",
      "VotingClassifier 0.8\n",
      "[[0.6235 0.3765 0.5443 0.4557 0.     1.     0.5    0.5   ]\n",
      " [0.3028 0.6972 0.1961 0.8039 0.     1.     0.3    0.7   ]\n",
      " [0.9189 0.0811 0.9036 0.0964 1.     0.     1.     0.    ]\n",
      " [0.2141 0.7859 0.0736 0.9264 0.     1.     0.1    0.9   ]\n",
      " [0.8552 0.1448 0.8838 0.1162 0.     1.     0.7    0.3   ]\n",
      " [0.8807 0.1193 0.9224 0.0776 1.     0.     0.9    0.1   ]\n",
      " [0.3785 0.6215 0.189  0.811  0.     1.     0.3    0.7   ]\n",
      " [0.5438 0.4562 0.5231 0.4769 1.     0.     0.3    0.7   ]\n",
      " [0.3334 0.6666 0.2901 0.7099 0.     1.     0.3    0.7   ]\n",
      " [0.259  0.741  0.2519 0.7481 0.     1.     0.5    0.5   ]\n",
      " [0.8576 0.1424 0.8849 0.1151 1.     0.     1.     0.    ]\n",
      " [0.8383 0.1617 0.9137 0.0863 1.     0.     1.     0.    ]\n",
      " [0.7936 0.2064 0.8751 0.1249 0.     1.     0.9    0.1   ]\n",
      " [0.0652 0.9348 0.1119 0.8881 0.     1.     0.1    0.9   ]\n",
      " [0.8825 0.1175 0.9198 0.0802 1.     0.     0.8    0.2   ]\n",
      " [0.7114 0.2886 0.7649 0.2351 1.     0.     0.5    0.5   ]\n",
      " [0.1158 0.8842 0.093  0.907  0.     1.     0.2    0.8   ]\n",
      " [0.1891 0.8109 0.1391 0.8609 0.     1.     0.2    0.8   ]\n",
      " [0.0762 0.9238 0.0972 0.9028 0.     1.     0.2    0.8   ]\n",
      " [0.2816 0.7184 0.1472 0.8528 0.     1.     0.3    0.7   ]]\n"
     ]
    }
   ],
   "source": [
    "import matplotlib.pyplot as plt\n",
    "from sklearn.datasets import make_moons\n",
    "from sklearn.model_selection import train_test_split\n",
    "from sklearn.linear_model import LogisticRegression\n",
    "from sklearn.svm import SVC\n",
    "from sklearn.tree import DecisionTreeClassifier\n",
    "from sklearn.neighbors import KNeighborsClassifier\n",
    "from sklearn.ensemble import VotingClassifier\n",
    "# 构造一个用于演示的交错半圆数据集\n",
    "moons = make_moons(n_samples=(60, 40), noise=0.3, random_state=5)\n",
    "data = moons[0]\n",
    "target = moons[1]\n",
    "# 双月数据集可视化\n",
    "plt.scatter(data[:, 0], data[:, 1], c=target, s=30, cmap=\"cool\")\n",
    "plt.xlabel('X')\n",
    "plt.ylabel('Y')\n",
    "plt.title(\"moons noise=0.3\")\n",
    "plt.show()\n",
    "# 划分训练集测试集\n",
    "X_train, X_test, Y_train, Y_test = train_test_split(\n",
    "  data, \n",
    "  target, \n",
    "  test_size=0.2,\n",
    "  random_state=1\n",
    ")\n",
    "\n",
    "log_clf = LogisticRegression()\n",
    "svc_clf = SVC(probability=True)\n",
    "tree_clf = DecisionTreeClassifier()\n",
    "knn_clf = KNeighborsClassifier(n_neighbors=10)\n",
    "\n",
    "vote_clf = VotingClassifier(\n",
    "    estimators=[(\"log_clf\", log_clf), (\"svc_clf\", svc_clf), (\"tree_clf\", tree_clf), (\"knn_clf\", knn_clf)],\n",
    "    voting=\"soft\",\n",
    ")\n",
    "\n",
    "for clf in (log_clf, svc_clf, tree_clf, knn_clf, vote_clf):\n",
    "    clf.fit(X_train, Y_train)\n",
    "    print(clf.__class__.__name__, clf.score(X_test, Y_test))\n",
    "\n",
    "print(np.round(vote_clf.transform(X_test), 4))"
   ]
  },
  {
   "cell_type": "code",
   "execution_count": null,
   "metadata": {},
   "outputs": [],
   "source": []
  }
 ],
 "metadata": {
  "kernelspec": {
   "display_name": "Python [conda env:ML]",
   "language": "python",
   "name": "conda-env-ML-py"
  },
  "language_info": {
   "codemirror_mode": {
    "name": "ipython",
    "version": 3
   },
   "file_extension": ".py",
   "mimetype": "text/x-python",
   "name": "python",
   "nbconvert_exporter": "python",
   "pygments_lexer": "ipython3",
   "version": "3.8.13"
  },
  "varInspector": {
   "cols": {
    "lenName": 16,
    "lenType": 16,
    "lenVar": 40
   },
   "kernels_config": {
    "python": {
     "delete_cmd_postfix": "",
     "delete_cmd_prefix": "del ",
     "library": "var_list.py",
     "varRefreshCmd": "print(var_dic_list())"
    },
    "r": {
     "delete_cmd_postfix": ") ",
     "delete_cmd_prefix": "rm(",
     "library": "var_list.r",
     "varRefreshCmd": "cat(var_dic_list()) "
    }
   },
   "types_to_exclude": [
    "module",
    "function",
    "builtin_function_or_method",
    "instance",
    "_Feature"
   ],
   "window_display": false
  }
 },
 "nbformat": 4,
 "nbformat_minor": 4
}
