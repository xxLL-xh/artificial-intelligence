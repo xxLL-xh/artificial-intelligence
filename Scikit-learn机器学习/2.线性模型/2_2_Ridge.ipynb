{
 "cells": [
  {
   "cell_type": "code",
   "execution_count": 2,
   "metadata": {
    "ExecuteTime": {
     "end_time": "2022-07-21T09:41:00.499638Z",
     "start_time": "2022-07-21T09:41:00.374634Z"
    }
   },
   "outputs": [
    {
     "name": "stdout",
     "output_type": "stream",
     "text": [
      "训练集评分 0.9988494623750145\n",
      "测试集评分 0.9990028514516666\n",
      "\n",
      "估计权值为 [47.85522415 38.59803487 37.63363298 24.88858985 -0.37737263 -1.25249501\n",
      "  0.44910939 87.05850391  0.58348406 -0.15178729]\n",
      "估计出的截距为 10.906829559033493\n"
     ]
    }
   ],
   "source": [
    "from sklearn.linear_model import Ridge\n",
    "from sklearn.model_selection import train_test_split\n",
    "from sklearn.datasets import make_regression\n",
    "\n",
    "# 加载数据\n",
    "data, target = make_regression(n_samples=100, n_targets=1, n_features=10, n_informative=5, \n",
    "                               bias=10, noise=3, random_state=1)\n",
    "X_train, X_test, Y_train, Y_test = train_test_split(\n",
    "  data, \n",
    "  target, \n",
    "  test_size=0.2,\n",
    "  random_state=1\n",
    ")\n",
    "# 创建并训练模型\n",
    "model2 = Ridge(alpha=1)\n",
    "model2.fit(X_train, Y_train)\n",
    "# 验证模型\n",
    "print(\"训练集评分\", model2.score(X_train, Y_train))\n",
    "print(\"测试集评分\", model2.score(X_test, Y_test))\n",
    "print(\"\\n估计权值为\", model2.coef_)\n",
    "print(\"估计出的截距为\", model2.intercept_)\n"
   ]
  },
  {
   "cell_type": "code",
   "execution_count": null,
   "metadata": {},
   "outputs": [],
   "source": []
  }
 ],
 "metadata": {
  "kernelspec": {
   "display_name": "Python [conda env:ML]",
   "language": "python",
   "name": "conda-env-ML-py"
  },
  "language_info": {
   "codemirror_mode": {
    "name": "ipython",
    "version": 3
   },
   "file_extension": ".py",
   "mimetype": "text/x-python",
   "name": "python",
   "nbconvert_exporter": "python",
   "pygments_lexer": "ipython3",
   "version": "3.8.13"
  },
  "varInspector": {
   "cols": {
    "lenName": 16,
    "lenType": 16,
    "lenVar": 40
   },
   "kernels_config": {
    "python": {
     "delete_cmd_postfix": "",
     "delete_cmd_prefix": "del ",
     "library": "var_list.py",
     "varRefreshCmd": "print(var_dic_list())"
    },
    "r": {
     "delete_cmd_postfix": ") ",
     "delete_cmd_prefix": "rm(",
     "library": "var_list.r",
     "varRefreshCmd": "cat(var_dic_list()) "
    }
   },
   "types_to_exclude": [
    "module",
    "function",
    "builtin_function_or_method",
    "instance",
    "_Feature"
   ],
   "window_display": false
  }
 },
 "nbformat": 4,
 "nbformat_minor": 4
}
