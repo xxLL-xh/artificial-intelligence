{
 "cells": [
  {
   "cell_type": "code",
   "execution_count": 1,
   "metadata": {
    "ExecuteTime": {
     "end_time": "2022-07-21T09:48:07.745802Z",
     "start_time": "2022-07-21T09:48:06.744419Z"
    }
   },
   "outputs": [
    {
     "name": "stdout",
     "output_type": "stream",
     "text": [
      "测试数据分类结果 [0 1 1 0 2 1 2 0 0 2 1 0 2 1 1]\n",
      "测试集实际值 [0 1 1 0 2 1 2 0 0 2 1 0 2 1 1]\n",
      "\n",
      "训练集评分 0.9777777777777777\n",
      "测试集评分 1.0\n",
      "\n",
      "分类函数的决策系数为 [[-0.44083388  0.85917623 -2.45485634 -0.99791855]\n",
      " [ 0.55075017 -0.31895976 -0.1754779  -0.93535799]\n",
      " [-0.10991628 -0.54021647  2.63033424  1.93327654]]\n",
      "分类函数的偏差为 [  9.94178858   1.87203262 -11.8138212 ]\n",
      "\n",
      "实际迭代次数为 [142]\n"
     ]
    }
   ],
   "source": [
    "from sklearn.linear_model import LogisticRegression\n",
    "from sklearn.datasets import load_iris\n",
    "from sklearn.model_selection import train_test_split\n",
    "\n",
    "iris_data = load_iris()\n",
    "data = iris_data.data\n",
    "target = iris_data.target\n",
    "\n",
    "# 划分数据集\n",
    "X_train, X_test, Y_train, Y_test = train_test_split(\n",
    "    data,\n",
    "    target,\n",
    "    test_size=0.1,\n",
    "    random_state=1\n",
    ")\n",
    "\n",
    "model4 = LogisticRegression(max_iter=1000)\n",
    "\n",
    "model4.fit(X_train, Y_train)\n",
    "print(\"测试数据分类结果\", model4.predict(X_test))\n",
    "print(\"测试集实际值\", Y_test )\n",
    "print(\"\\n训练集评分\", model4.score(X_train, Y_train))\n",
    "print(\"测试集评分\", model4.score(X_test, Y_test))\n",
    "\n",
    "print(\"\\n分类函数的决策系数为\", model4.coef_)\n",
    "print(\"分类函数的偏差为\", model4.intercept_)\n",
    "print(\"\\n实际迭代次数为\", model4.n_iter_)"
   ]
  },
  {
   "cell_type": "code",
   "execution_count": null,
   "metadata": {},
   "outputs": [],
   "source": []
  }
 ],
 "metadata": {
  "kernelspec": {
   "display_name": "Python [conda env:ML]",
   "language": "python",
   "name": "conda-env-ML-py"
  },
  "language_info": {
   "codemirror_mode": {
    "name": "ipython",
    "version": 3
   },
   "file_extension": ".py",
   "mimetype": "text/x-python",
   "name": "python",
   "nbconvert_exporter": "python",
   "pygments_lexer": "ipython3",
   "version": "3.8.13"
  },
  "varInspector": {
   "cols": {
    "lenName": 16,
    "lenType": 16,
    "lenVar": 40
   },
   "kernels_config": {
    "python": {
     "delete_cmd_postfix": "",
     "delete_cmd_prefix": "del ",
     "library": "var_list.py",
     "varRefreshCmd": "print(var_dic_list())"
    },
    "r": {
     "delete_cmd_postfix": ") ",
     "delete_cmd_prefix": "rm(",
     "library": "var_list.r",
     "varRefreshCmd": "cat(var_dic_list()) "
    }
   },
   "types_to_exclude": [
    "module",
    "function",
    "builtin_function_or_method",
    "instance",
    "_Feature"
   ],
   "window_display": false
  }
 },
 "nbformat": 4,
 "nbformat_minor": 4
}
