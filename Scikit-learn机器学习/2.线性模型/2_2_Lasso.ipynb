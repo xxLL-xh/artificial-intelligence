{
 "cells": [
  {
   "cell_type": "code",
   "execution_count": 2,
   "metadata": {
    "ExecuteTime": {
     "end_time": "2022-07-21T09:42:58.580519Z",
     "start_time": "2022-07-21T09:42:58.555303Z"
    }
   },
   "outputs": [
    {
     "name": "stdout",
     "output_type": "stream",
     "text": [
      "训练集评分 0.9982758239079493\n",
      "测试集评分 0.9988834794897771\n",
      "\n",
      "估计权值为 [47.18620349 38.01905887 37.1139947  24.40520529 -0.         -0.17054661\n",
      "  0.         86.93288201  0.         -0.        ]\n",
      "估计出的截距为 11.084302859038733\n"
     ]
    }
   ],
   "source": [
    "from sklearn.linear_model import Lasso\n",
    "from sklearn.model_selection import train_test_split\n",
    "from sklearn.datasets import make_regression\n",
    "\n",
    "# 加载数据\n",
    "data, target = make_regression(n_samples=100, n_targets=1, n_features=10, n_informative=5, \n",
    "                               bias=10, noise=3, random_state=1)\n",
    "X_train, X_test, Y_train, Y_test = train_test_split(\n",
    "  data, \n",
    "  target, \n",
    "  test_size=0.2,\n",
    "  random_state=1\n",
    ")\n",
    "# 创建并训练模型\n",
    "model3 = Lasso(alpha=1)\n",
    "model3.fit(X_train, Y_train)\n",
    "# 模型验证\n",
    "print(\"训练集评分\", model3.score(X_train, Y_train))\n",
    "print(\"测试集评分\", model3.score(X_test, Y_test))\n",
    "print(\"\\n估计权值为\", model3.coef_)\n",
    "print(\"估计出的截距为\", model3.intercept_)\n"
   ]
  },
  {
   "cell_type": "code",
   "execution_count": null,
   "metadata": {},
   "outputs": [],
   "source": []
  }
 ],
 "metadata": {
  "kernelspec": {
   "display_name": "Python [conda env:ML]",
   "language": "python",
   "name": "conda-env-ML-py"
  },
  "language_info": {
   "codemirror_mode": {
    "name": "ipython",
    "version": 3
   },
   "file_extension": ".py",
   "mimetype": "text/x-python",
   "name": "python",
   "nbconvert_exporter": "python",
   "pygments_lexer": "ipython3",
   "version": "3.8.13"
  },
  "varInspector": {
   "cols": {
    "lenName": 16,
    "lenType": 16,
    "lenVar": 40
   },
   "kernels_config": {
    "python": {
     "delete_cmd_postfix": "",
     "delete_cmd_prefix": "del ",
     "library": "var_list.py",
     "varRefreshCmd": "print(var_dic_list())"
    },
    "r": {
     "delete_cmd_postfix": ") ",
     "delete_cmd_prefix": "rm(",
     "library": "var_list.r",
     "varRefreshCmd": "cat(var_dic_list()) "
    }
   },
   "types_to_exclude": [
    "module",
    "function",
    "builtin_function_or_method",
    "instance",
    "_Feature"
   ],
   "window_display": false
  }
 },
 "nbformat": 4,
 "nbformat_minor": 4
}
