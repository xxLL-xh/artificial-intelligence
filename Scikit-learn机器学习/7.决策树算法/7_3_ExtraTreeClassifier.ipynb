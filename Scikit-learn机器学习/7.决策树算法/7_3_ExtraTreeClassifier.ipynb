{
 "cells": [
  {
   "cell_type": "code",
   "execution_count": 1,
   "metadata": {
    "ExecuteTime": {
     "end_time": "2022-07-22T02:03:48.667765Z",
     "start_time": "2022-07-22T02:03:46.467044Z"
    }
   },
   "outputs": [
    {
     "name": "stdout",
     "output_type": "stream",
     "text": [
      "\n",
      "纯度的衡量方法为gini时\n",
      "训练集得分为：1.000000\n",
      "测试集得分为：0.888889\n",
      "由测试样本得到的预测值\n",
      "[2 2 1 0 1 2 0 2 1 2 2 2 1 2 2 0 0 0 1 2 0 0 1 1 0 0 1 2 1 1 0 1 0 2 0 2]\n",
      "实际值\n",
      "[2 2 1 0 1 2 0 2 1 2 2 2 1 1 2 0 0 0 0 2 0 0 1 1 0 0 1 1 1 0 0 1 0 2 0 2]\n",
      "决策树深度： 12\n",
      "决策树叶子节点个数： 36\n",
      "\n",
      "classes_\n",
      " [0 1 2]\n",
      "feature_importances_\n",
      " [0.         0.         0.00539104 0.0281694  0.01617312 0.03450924\n",
      " 0.02515819 0.0015403  0.06372419 0.23084429 0.02824091 0.16044777\n",
      " 0.40580156]\n",
      "n_classes_\n",
      " 3\n",
      "tree_\n",
      " <sklearn.tree._tree.Tree object at 0x0000029E86FE0650>\n"
     ]
    }
   ],
   "source": [
    "import matplotlib.pyplot as plt\n",
    "from sklearn.tree import ExtraTreeClassifier\n",
    "from sklearn.datasets import load_wine\n",
    "from sklearn.model_selection import train_test_split\n",
    "\n",
    "# 加载数据集\n",
    "wine_data = load_wine()\n",
    "data = wine_data.data\n",
    "target = wine_data.target\n",
    "\n",
    "# 划分数据集\n",
    "X_train, X_test, Y_train, Y_test = train_test_split(\n",
    "    data,\n",
    "    target,\n",
    "    test_size=0.2,\n",
    "    random_state=12\n",
    ")\n",
    "\n",
    "model = ExtraTreeClassifier(criterion=\"gini\")\n",
    "\n",
    "# 训练\n",
    "model.fit(X_train, Y_train)\n",
    "# 评分\n",
    "print(\"\\n纯度的衡量方法为\" + model.criterion + \"时\") \n",
    "print(\"训练集得分为：%.6f\" % model.score(X_train, Y_train))\n",
    "print(\"测试集得分为：%.6f\" % model.score(X_test, Y_test))\n",
    "# 测试\n",
    "print(\"由测试样本得到的预测值\")\n",
    "print(model.predict(X_test))\n",
    "print(\"实际值\")\n",
    "print(Y_test)\n",
    "print(\"决策树深度：\", model.get_depth())\n",
    "print(\"决策树叶子节点个数：\", model.get_n_leaves())\n",
    "\n",
    "# 查看参数\n",
    "print(\"\\nclasses_\\n\", model.classes_)\n",
    "print(\"feature_importances_\\n\", model.feature_importances_)\n",
    "print(\"n_classes_\\n\", model.n_classes_)\n",
    "print(\"tree_\\n\", model.tree_)\n"
   ]
  },
  {
   "cell_type": "code",
   "execution_count": null,
   "metadata": {},
   "outputs": [],
   "source": []
  }
 ],
 "metadata": {
  "kernelspec": {
   "display_name": "Python [conda env:ML]",
   "language": "python",
   "name": "conda-env-ML-py"
  },
  "language_info": {
   "codemirror_mode": {
    "name": "ipython",
    "version": 3
   },
   "file_extension": ".py",
   "mimetype": "text/x-python",
   "name": "python",
   "nbconvert_exporter": "python",
   "pygments_lexer": "ipython3",
   "version": "3.8.13"
  },
  "varInspector": {
   "cols": {
    "lenName": 16,
    "lenType": 16,
    "lenVar": 40
   },
   "kernels_config": {
    "python": {
     "delete_cmd_postfix": "",
     "delete_cmd_prefix": "del ",
     "library": "var_list.py",
     "varRefreshCmd": "print(var_dic_list())"
    },
    "r": {
     "delete_cmd_postfix": ") ",
     "delete_cmd_prefix": "rm(",
     "library": "var_list.r",
     "varRefreshCmd": "cat(var_dic_list()) "
    }
   },
   "types_to_exclude": [
    "module",
    "function",
    "builtin_function_or_method",
    "instance",
    "_Feature"
   ],
   "window_display": false
  }
 },
 "nbformat": 4,
 "nbformat_minor": 4
}
