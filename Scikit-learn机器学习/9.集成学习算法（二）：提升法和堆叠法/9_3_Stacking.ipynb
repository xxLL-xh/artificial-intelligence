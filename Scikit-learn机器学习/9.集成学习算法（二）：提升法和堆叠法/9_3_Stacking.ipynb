{
 "cells": [
  {
   "cell_type": "code",
   "execution_count": 3,
   "metadata": {
    "ExecuteTime": {
     "end_time": "2022-07-22T02:28:25.828347Z",
     "start_time": "2022-07-22T02:28:25.652845Z"
    }
   },
   "outputs": [
    {
     "name": "stdout",
     "output_type": "stream",
     "text": [
      "Stacking Ensemble Train Score:  0.5235980437263437\n",
      "Stacking Ensemble Test Score:  0.5740765778667156\n"
     ]
    }
   ],
   "source": [
    "from sklearn.datasets import load_diabetes\n",
    "from sklearn.tree import DecisionTreeRegressor\n",
    "from sklearn.linear_model import LinearRegression, Ridge\n",
    "from sklearn.neighbors import KNeighborsRegressor\n",
    "from sklearn.svm import SVR\n",
    "from sklearn.ensemble import StackingRegressor\n",
    "from sklearn.model_selection import train_test_split\n",
    "from sklearn.preprocessing import MinMaxScaler\n",
    "from sklearn.preprocessing import StandardScaler\n",
    "\n",
    "diabetes = load_diabetes()\n",
    "data = diabetes.data[:440]\n",
    "target = diabetes.target[:440]\n",
    "# 划分数据集\n",
    "X_train, X_test, Y_train, Y_test = train_test_split(\n",
    "    data,\n",
    "    target,\n",
    "    train_size=380,\n",
    "    random_state=1\n",
    ")\n",
    "\n",
    "\n",
    "def Data_preprocess(X_train, X_test):\n",
    "    MMS = MinMaxScaler()\n",
    "    MMS.fit(X_train)\n",
    "    X1 = MMS.transform(X_train)\n",
    "    X2 = MMS.transform(X_test)\n",
    "    STD = StandardScaler()\n",
    "    STD.fit(X1)\n",
    "    X1 = STD.transform(X1)\n",
    "    X2 = STD.transform(X2)\n",
    "    return X1, X2\n",
    "# 将数据标准归一化\n",
    "X_train, X_test = Data_preprocess(X_train, X_test)\n",
    "\n",
    "\n",
    "# 创建基础学习器\n",
    "base_estimators = []\n",
    "knn = KNeighborsRegressor(n_neighbors=12)\n",
    "base_estimators.append((\"knn\", knn))\n",
    "tree = DecisionTreeRegressor(max_depth=3 , random_state=2)\n",
    "base_estimators.append((\"tree\", tree))\n",
    "svr = SVR(kernel=\"linear\")\n",
    "base_estimators.append((\"svr\", svr))\n",
    "# 创建堆叠法集成学习器\n",
    "model = StackingRegressor(estimators=base_estimators, \n",
    "                         final_estimator=LinearRegression(),\n",
    "                         cv=5)\n",
    "\n",
    "model.fit(X_train, Y_train)\n",
    "print(\"Stacking Ensemble Train Score: \", model.score(X_train, Y_train))\n",
    "print(\"Stacking Ensemble Test Score: \", model.score(X_test, Y_test))\n",
    "\n"
   ]
  },
  {
   "cell_type": "code",
   "execution_count": 2,
   "metadata": {
    "ExecuteTime": {
     "end_time": "2022-07-22T02:28:19.362581Z",
     "start_time": "2022-07-22T02:28:19.165141Z"
    }
   },
   "outputs": [
    {
     "name": "stdout",
     "output_type": "stream",
     "text": [
      "KNeighborsRegressor Test Score:\n",
      "0.5029269100832066\n",
      "DecisionTreeRegressor Test Score:\n",
      "0.4876180735473149\n",
      "SVR Test Score:\n",
      "0.5338990591449487\n",
      "Stacking Ensemble Test Score:\n",
      " 0.5735499689531267\n"
     ]
    }
   ],
   "source": [
    "from sklearn.datasets import load_diabetes\n",
    "from sklearn.tree import DecisionTreeRegressor\n",
    "from sklearn.linear_model import LinearRegression, Ridge\n",
    "from sklearn.neighbors import KNeighborsRegressor\n",
    "from sklearn.svm import SVR\n",
    "from sklearn.model_selection import train_test_split\n",
    "from sklearn.model_selection import KFold\n",
    "from sklearn.preprocessing import MinMaxScaler\n",
    "from sklearn.preprocessing import StandardScaler\n",
    "\n",
    "\n",
    "diabetes = load_diabetes()\n",
    "data = diabetes.data[:440]\n",
    "target = diabetes.target[:440]\n",
    "# 划分数据集\n",
    "X_train, X_test, Y_train, Y_test = train_test_split(\n",
    "    data,\n",
    "    target,\n",
    "    train_size=380,\n",
    "    random_state=1\n",
    ")\n",
    "\n",
    "def Data_preprocess(X_train, X_test):\n",
    "    MMS = MinMaxScaler()\n",
    "    MMS.fit(X_train)\n",
    "    X1 = MMS.transform(X_train)\n",
    "    X2 = MMS.transform(X_test)\n",
    "    STD = StandardScaler()\n",
    "    STD.fit(X1)\n",
    "    X1 = STD.transform(X1)\n",
    "    X2 = STD.transform(X2)\n",
    "    return X1, X2\n",
    "\n",
    "# 基础学习器\n",
    "base_estimators = []\n",
    "knn = KNeighborsRegressor(n_neighbors=12)\n",
    "base_estimators.append(knn)\n",
    "tree = DecisionTreeRegressor(max_depth=3 , random_state=2)\n",
    "base_estimators.append(tree)\n",
    "svr = SVR(kernel=\"linear\")\n",
    "base_estimators.append(svr)\n",
    "\n",
    "# 元学习器\n",
    "meta_estimator = LinearRegression()\n",
    "\n",
    "# 初始化数据\n",
    "X_meta_train = np.ones((len(base_estimators), len(X_train)))\n",
    "Y_meta_train = Y_train\n",
    "\n",
    "KF = KFold(n_splits=5)\n",
    "# 用每一折形成的数据切片为每个训练基础学习器学习模型\n",
    "for train_indices, pred_indices in KF.split(X_train):\n",
    "    train, to_pred = Data_preprocess(X_train[train_indices], X_train[pred_indices])\n",
    "    for i in range(len(base_estimators)):\n",
    "        model = base_estimators[i]\n",
    "        model.fit(train, Y_train[train_indices])\n",
    "        # 第i个元学习器的预测结果是元数据的第i列\n",
    "        X_meta_train[i][pred_indices] = model.predict(to_pred)\n",
    "\n",
    "X_meta_train = X_meta_train.T    # 转置\n",
    "\n",
    "X_meta_test = np.ones((len(base_estimators), len(X_test)))\n",
    "# 初始化数据\n",
    "Y_meta_test = Y_test\n",
    "X_train, X_test = Data_preprocess(X_train, X_test)\n",
    "\n",
    "scores = []\n",
    "for i in range(len(base_estimators)):\n",
    "    model = base_estimators[i]\n",
    "    model.fit(X_train, Y_train)\n",
    "    X_meta_test[i] = model.predict(X_test)\n",
    "    scores.append(model.score(X_test, Y_test))\n",
    "\n",
    "X_meta_test = X_meta_test.T\n",
    "\n",
    "# 训练元学习器\n",
    "meta_estimator.fit(X_meta_train, Y_meta_train)\n",
    "meta_score = meta_estimator.score(X_meta_test, Y_meta_test)\n",
    "# 打印评分\n",
    "for i in range(len(base_estimators)):\n",
    "    print(base_estimators[i].__class__.__name__ + \" Test Score:\")\n",
    "    print(scores[i])\n",
    "print(\"Stacking Ensemble Test Score:\\n\", meta_score)\n"
   ]
  },
  {
   "cell_type": "code",
   "execution_count": null,
   "metadata": {},
   "outputs": [],
   "source": []
  }
 ],
 "metadata": {
  "kernelspec": {
   "display_name": "Python [conda env:ML]",
   "language": "python",
   "name": "conda-env-ML-py"
  },
  "language_info": {
   "codemirror_mode": {
    "name": "ipython",
    "version": 3
   },
   "file_extension": ".py",
   "mimetype": "text/x-python",
   "name": "python",
   "nbconvert_exporter": "python",
   "pygments_lexer": "ipython3",
   "version": "3.8.13"
  },
  "varInspector": {
   "cols": {
    "lenName": 16,
    "lenType": 16,
    "lenVar": 40
   },
   "kernels_config": {
    "python": {
     "delete_cmd_postfix": "",
     "delete_cmd_prefix": "del ",
     "library": "var_list.py",
     "varRefreshCmd": "print(var_dic_list())"
    },
    "r": {
     "delete_cmd_postfix": ") ",
     "delete_cmd_prefix": "rm(",
     "library": "var_list.r",
     "varRefreshCmd": "cat(var_dic_list()) "
    }
   },
   "types_to_exclude": [
    "module",
    "function",
    "builtin_function_or_method",
    "instance",
    "_Feature"
   ],
   "window_display": false
  }
 },
 "nbformat": 4,
 "nbformat_minor": 4
}
